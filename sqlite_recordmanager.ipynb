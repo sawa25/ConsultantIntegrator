{
  "cells": [
    {
      "cell_type": "code",
      "execution_count": 16,
      "metadata": {
        "id": "zKaRoUzKJLlk"
      },
      "outputs": [],
      "source": [
        "#!pip install langchain faiss-cpu langchain_core langchain_openai langchain_community >/dev/null"
      ]
    },
    {
      "cell_type": "code",
      "execution_count": 41,
      "metadata": {
        "id": "H-4Jf0iFJlr-"
      },
      "outputs": [],
      "source": [
        "from langchain.vectorstores import FAISS\n",
        "from langchain.embeddings import OpenAIEmbeddings\n",
        "import os\n",
        "from langchain.indexes import SQLRecordManager, index\n",
        "from langchain_core.documents import Document\n",
        "from langchain_openai import OpenAIEmbeddings\n",
        "\n",
        "from langchain_community.docstore.in_memory import InMemoryDocstore\n",
        "from faiss import IndexFlatL2"
      ]
    },
    {
      "cell_type": "code",
      "execution_count": 18,
      "metadata": {
        "id": "hdAWQt1AJNfC"
      },
      "outputs": [],
      "source": [
        "from google.colab import userdata\n",
        "key = userdata.get('OpenAI') # здесь можно заменить название секрета колаба на свое (для ключа ОпенЭйАй)\n",
        "os.environ[\"OPENAI_API_KEY\"] = key"
      ]
    },
    {
      "cell_type": "code",
      "execution_count": 35,
      "metadata": {
        "id": "YKAsmkn1KZ0q"
      },
      "outputs": [],
      "source": [
        "doc1 = Document(page_content=\"kitty\", metadata={\"source\": \"kitty.txt\"})\n",
        "doc2 = Document(page_content=\"doggy\", metadata={\"source\": \"doggy.txt\"})"
      ]
    },
    {
      "cell_type": "code",
      "execution_count": 36,
      "metadata": {
        "id": "HohTnTc4MxwN"
      },
      "outputs": [],
      "source": [
        "embedding = OpenAIEmbeddings()\n",
        "vectorstore = FAISS.from_documents([doc1], embedding)"
      ]
    },
    {
      "cell_type": "code",
      "execution_count": 37,
      "metadata": {
        "id": "REkUHnDLNSy-"
      },
      "outputs": [],
      "source": [
        "# Создаем Менеджера записей\n",
        "collection_name = \"test_index\"\n",
        "namespace = f\"faiss/{collection_name}\"\n",
        "record_manager = SQLRecordManager(\n",
        "    namespace, db_url=\"sqlite:///record_manager_cache.sql\"\n",
        ")\n",
        "record_manager.create_schema()"
      ]
    },
    {
      "cell_type": "code",
      "execution_count": 39,
      "metadata": {
        "colab": {
          "base_uri": "https://localhost:8080/"
        },
        "id": "WdkBqrA9NJnH",
        "outputId": "6871b0a2-763f-4c52-8cbf-bb5615f0b490"
      },
      "outputs": [
        {
          "data": {
            "text/plain": [
              "{'num_added': 2, 'num_updated': 0, 'num_skipped': 0, 'num_deleted': 0}"
            ]
          },
          "execution_count": 39,
          "metadata": {},
          "output_type": "execute_result"
        }
      ],
      "source": [
        "# Using the 'full' cleanup mode for this example\n",
        "index([doc1,doc2], record_manager, vectorstore, cleanup=\"full\", source_id_key=\"source\")"
      ]
    },
    {
      "cell_type": "code",
      "execution_count": 40,
      "metadata": {
        "colab": {
          "base_uri": "https://localhost:8080/"
        },
        "id": "2BWUhJOdKOcd",
        "outputId": "94858fa6-824f-409b-fe32-a758b7c9f2e8"
      },
      "outputs": [
        {
          "data": {
            "text/plain": [
              "{'num_added': 1, 'num_updated': 0, 'num_skipped': 1, 'num_deleted': 1}"
            ]
          },
          "execution_count": 40,
          "metadata": {},
          "output_type": "execute_result"
        }
      ],
      "source": [
        "doc1 = Document(page_content=\"kitty kitty\", metadata={\"source\": \"kitty.txt\"})\n",
        "index([doc1, doc2], record_manager, vectorstore_0, cleanup=\"full\", source_id_key=\"source\")"
      ]
    },
    {
      "cell_type": "code",
      "execution_count": 49,
      "metadata": {
        "colab": {
          "base_uri": "https://localhost:8080/"
        },
        "id": "vX4VI0qKROHx",
        "outputId": "0df028a6-dbfc-46c3-87d2-5481b47adc56"
      },
      "outputs": [
        {
          "data": {
            "text/plain": [
              "{'bed90466-8e65-483f-ace0-711e80257263': Document(page_content='kitty', metadata={'source': 'kitty.txt'}),\n",
              " '2a7c9f28-7763-52c1-b3ea-9aef92133476': Document(page_content='kitty', metadata={'source': 'kitty.txt'}),\n",
              " '39997b8e-1d4a-55e7-91d4-a00189e27bfa': Document(page_content='doggy', metadata={'source': 'doggy.txt'})}"
            ]
          },
          "execution_count": 49,
          "metadata": {},
          "output_type": "execute_result"
        }
      ],
      "source": [
        "vectorstore.docstore._dict"
      ]
    },
    {
      "cell_type": "markdown",
      "metadata": {
        "id": "OsszBE77QtLi"
      },
      "source": [
        "# Пустое хранилище"
      ]
    },
    {
      "cell_type": "code",
      "execution_count": 45,
      "metadata": {
        "id": "xsKFM1dUQjro"
      },
      "outputs": [],
      "source": [
        "vectorstore_0 = FAISS(\n",
        "            embedding_function=embedding,\n",
        "            docstore=InMemoryDocstore(),\n",
        "            index=IndexFlatL2(1536),\n",
        "            index_to_docstore_id={},\n",
        "        )"
      ]
    },
    {
      "cell_type": "code",
      "execution_count": 46,
      "metadata": {
        "id": "FNPJ4BmLQsaL"
      },
      "outputs": [],
      "source": [
        "# Создаем Менеджера записей\n",
        "collection_name = \"new_index\"\n",
        "namespace = f\"faiss/{collection_name}\"\n",
        "record_manager_0 = SQLRecordManager(\n",
        "    namespace, db_url=\"sqlite:///record_manager_cache.sql\"\n",
        ")\n",
        "record_manager.create_schema()"
      ]
    },
    {
      "cell_type": "code",
      "execution_count": 47,
      "metadata": {
        "colab": {
          "base_uri": "https://localhost:8080/"
        },
        "id": "1NMdNbMUQ49v",
        "outputId": "7776d351-4e26-4778-fddf-b6b168c19cdf"
      },
      "outputs": [
        {
          "data": {
            "text/plain": [
              "{'num_added': 2, 'num_updated': 0, 'num_skipped': 0, 'num_deleted': 0}"
            ]
          },
          "execution_count": 47,
          "metadata": {},
          "output_type": "execute_result"
        }
      ],
      "source": [
        "# Using the 'full' cleanup mode for this example\n",
        "index([doc1,doc2], record_manager_0, vectorstore_0, cleanup=\"full\", source_id_key=\"source\")"
      ]
    },
    {
      "cell_type": "code",
      "execution_count": 48,
      "metadata": {
        "colab": {
          "base_uri": "https://localhost:8080/"
        },
        "id": "uUInpV0JREZE",
        "outputId": "73cc937c-fce0-41a5-e0f0-060436a6677e"
      },
      "outputs": [
        {
          "data": {
            "text/plain": [
              "{'18662629-78e4-5160-8022-4fed9e64fe3f': Document(page_content='kitty kitty', metadata={'source': 'kitty.txt'}),\n",
              " '39997b8e-1d4a-55e7-91d4-a00189e27bfa': Document(page_content='doggy', metadata={'source': 'doggy.txt'})}"
            ]
          },
          "execution_count": 48,
          "metadata": {},
          "output_type": "execute_result"
        }
      ],
      "source": [
        "vectorstore_0.docstore._dict"
      ]
    }
  ],
  "metadata": {
    "colab": {
      "provenance": []
    },
    "kernelspec": {
      "display_name": "Python 3",
      "name": "python3"
    },
    "language_info": {
      "name": "python"
    }
  },
  "nbformat": 4,
  "nbformat_minor": 0
}
