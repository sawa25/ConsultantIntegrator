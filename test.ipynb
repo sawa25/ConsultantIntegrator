{
 "cells": [
  {
   "cell_type": "code",
   "execution_count": 8,
   "metadata": {},
   "outputs": [],
   "source": [
    "from vector_store import VStore"
   ]
  },
  {
   "cell_type": "code",
   "execution_count": 19,
   "metadata": {},
   "outputs": [],
   "source": [
    "vs_langch = VStore('python_langchain')"
   ]
  },
  {
   "cell_type": "code",
   "execution_count": 20,
   "metadata": {},
   "outputs": [
    {
     "ename": "AttributeError",
     "evalue": "'VStore' object has no attribute 'split_doc'",
     "output_type": "error",
     "traceback": [
      "\u001b[0;31m---------------------------------------------------------------------------\u001b[0m",
      "\u001b[0;31mAttributeError\u001b[0m                            Traceback (most recent call last)",
      "Cell \u001b[0;32mIn[20], line 1\u001b[0m\n\u001b[0;32m----> 1\u001b[0m db \u001b[38;5;241m=\u001b[39m \u001b[43mvs_langch\u001b[49m\u001b[38;5;241;43m.\u001b[39;49m\u001b[43mcreate_from_chapter_url\u001b[49m\u001b[43m(\u001b[49m\u001b[38;5;124;43m'\u001b[39;49m\u001b[38;5;124;43mhttps://python.langchain.com/v0.2/docs/templates/\u001b[39;49m\u001b[38;5;124;43m'\u001b[39;49m\u001b[43m,\u001b[49m\u001b[43m \u001b[49m\u001b[38;5;241;43m2000\u001b[39;49m\u001b[43m)\u001b[49m\n",
      "File \u001b[0;32m~/Documents/ГПТ_практика_проект/ConsultantIntegrator/vector_store.py:298\u001b[0m, in \u001b[0;36mVStore.create_from_chapter_url\u001b[0;34m(self, chapter_url, chunk_size)\u001b[0m\n\u001b[1;32m    296\u001b[0m             bs \u001b[38;5;241m=\u001b[39m BeautifulSoup(response\u001b[38;5;241m.\u001b[39mtext, \u001b[38;5;124m\"\u001b[39m\u001b[38;5;124mhtml.parser\u001b[39m\u001b[38;5;124m\"\u001b[39m)\n\u001b[1;32m    297\u001b[0m             text \u001b[38;5;241m+\u001b[39m\u001b[38;5;241m=\u001b[39m langchain_docs_extractor(bs)\n\u001b[0;32m--> 298\u001b[0m             source_chunks \u001b[38;5;241m+\u001b[39m\u001b[38;5;241m=\u001b[39m \u001b[38;5;28;43mself\u001b[39;49m\u001b[38;5;241;43m.\u001b[39;49m\u001b[43msplit_doc\u001b[49m(text, url, get_name(url))\n\u001b[1;32m    300\u001b[0m \u001b[38;5;28mself\u001b[39m\u001b[38;5;241m.\u001b[39mdb \u001b[38;5;241m=\u001b[39m FAISS\u001b[38;5;241m.\u001b[39mfrom_documents(source_chunks, \u001b[38;5;28mself\u001b[39m\u001b[38;5;241m.\u001b[39membeddings)\n\u001b[1;32m    301\u001b[0m \u001b[38;5;28mself\u001b[39m\u001b[38;5;241m.\u001b[39mname \u001b[38;5;241m=\u001b[39m chapter_name\n",
      "\u001b[0;31mAttributeError\u001b[0m: 'VStore' object has no attribute 'split_doc'"
     ]
    }
   ],
   "source": [
    "db = vs_langch.create_from_chapter_url('https://python.langchain.com/v0.2/docs/templates/', 2000)"
   ]
  },
  {
   "cell_type": "code",
   "execution_count": 2,
   "metadata": {},
   "outputs": [],
   "source": [
    "import pickle"
   ]
  },
  {
   "cell_type": "code",
   "execution_count": 4,
   "metadata": {},
   "outputs": [],
   "source": [
    "with open('list_to_parse.pkl', 'rb') as f:\n",
    "    list_to_parse = pickle.load(f)"
   ]
  },
  {
   "cell_type": "code",
   "execution_count": 7,
   "metadata": {},
   "outputs": [
    {
     "name": "stdout",
     "output_type": "stream",
     "text": [
      "['https://python.langchain.com/v0.2/docs/templates/self-query-supabase/', 'https://python.langchain.com/v0.2/docs/templates/shopping-assistant/', 'https://python.langchain.com/v0.2/docs/templates/skeleton-of-thought/', 'https://python.langchain.com/v0.2/docs/templates/solo-performance-prompting-agent/']\n"
     ]
    }
   ],
   "source": [
    "print(list_to_parse[100:104])"
   ]
  },
  {
   "cell_type": "code",
   "execution_count": null,
   "metadata": {},
   "outputs": [],
   "source": []
  }
 ],
 "metadata": {
  "kernelspec": {
   "display_name": "venv_gpt_practic_bot",
   "language": "python",
   "name": "python3"
  },
  "language_info": {
   "codemirror_mode": {
    "name": "ipython",
    "version": 3
   },
   "file_extension": ".py",
   "mimetype": "text/x-python",
   "name": "python",
   "nbconvert_exporter": "python",
   "pygments_lexer": "ipython3",
   "version": "3.9.13"
  }
 },
 "nbformat": 4,
 "nbformat_minor": 2
}
